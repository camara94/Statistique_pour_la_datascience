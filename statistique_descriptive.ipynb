{
  "nbformat": 4,
  "nbformat_minor": 0,
  "metadata": {
    "colab": {
      "name": "statistique_descriptive.ipynb",
      "private_outputs": true,
      "provenance": [],
      "authorship_tag": "ABX9TyPrlbCpDAW+IuLvAen2aWRj",
      "include_colab_link": true
    },
    "kernelspec": {
      "name": "python3",
      "display_name": "Python 3"
    },
    "language_info": {
      "name": "python"
    }
  },
  "cells": [
    {
      "cell_type": "markdown",
      "metadata": {
        "id": "view-in-github",
        "colab_type": "text"
      },
      "source": [
        "<a href=\"https://colab.research.google.com/github/camara94/Statistique_pour_la_datascience/blob/main/statistique_descriptive.ipynb\" target=\"_parent\"><img src=\"https://colab.research.google.com/assets/colab-badge.svg\" alt=\"Open In Colab\"/></a>"
      ]
    },
    {
      "cell_type": "markdown",
      "source": [
        "# Importation"
      ],
      "metadata": {
        "id": "634h4GxRX5gb"
      }
    },
    {
      "cell_type": "code",
      "execution_count": null,
      "metadata": {
        "id": "IYpapQIpXsb6"
      },
      "outputs": [],
      "source": [
        "import pandas as pd\n",
        "import numpy as np\n",
        "import matplotlib.pyplot as plt\n",
        "import seaborn as sns\n",
        "plt.style.use('ggplot')"
      ]
    },
    {
      "cell_type": "markdown",
      "source": [
        "# Les données dans Seaborn"
      ],
      "metadata": {
        "id": "q3VwYW9BYWSk"
      }
    },
    {
      "cell_type": "code",
      "source": [
        "# Les datasets qui se trouvent Seaborn sont:\n",
        "sns.get_dataset_names()"
      ],
      "metadata": {
        "id": "yX5OujurYJUr"
      },
      "execution_count": null,
      "outputs": []
    },
    {
      "cell_type": "code",
      "source": [
        "tips_df = sns.load_dataset(\"tips\")\n",
        "tips_df.head()"
      ],
      "metadata": {
        "id": "R3NSUlDtYxxS"
      },
      "execution_count": null,
      "outputs": []
    },
    {
      "cell_type": "code",
      "source": [
        "# Afficher la structure des données\n",
        "tips_df.info()"
      ],
      "metadata": {
        "id": "ZsS-xniUZHrI"
      },
      "execution_count": null,
      "outputs": []
    },
    {
      "cell_type": "markdown",
      "source": [
        "# Paramètres statistiques usuels"
      ],
      "metadata": {
        "id": "xILFh2_nZ5Ib"
      }
    },
    {
      "cell_type": "code",
      "source": [
        "# Le pourbois moyen\n",
        "tips_df.tip.mean()"
      ],
      "metadata": {
        "id": "IZ9v00S5ZaFf"
      },
      "execution_count": null,
      "outputs": []
    },
    {
      "cell_type": "code",
      "source": [
        "# Arrondisons à trois chiffres après la virgule\n",
        "tips_df.tip.mean().round(3)"
      ],
      "metadata": {
        "id": "RSCYAV3maLA6"
      },
      "execution_count": null,
      "outputs": []
    },
    {
      "cell_type": "code",
      "source": [
        "# Le pourbois median\n",
        "tips_df.tip.median()"
      ],
      "metadata": {
        "id": "fbw_Tow8aZSH"
      },
      "execution_count": null,
      "outputs": []
    },
    {
      "cell_type": "code",
      "source": [
        "#  Le pourbois min\n",
        "tips_df.tip.min()"
      ],
      "metadata": {
        "id": "yDvX1j1Ga9n4"
      },
      "execution_count": null,
      "outputs": []
    },
    {
      "cell_type": "code",
      "source": [
        "#  Le pourbois max\n",
        "tips_df.tip.max()"
      ],
      "metadata": {
        "id": "AAp6ahQibEwP"
      },
      "execution_count": null,
      "outputs": []
    },
    {
      "cell_type": "code",
      "source": [
        "# Distribution de fréquence de la variable `'tip'`\n",
        "tips_df.tip.value_counts()"
      ],
      "metadata": {
        "id": "7aNF6lowbKpw"
      },
      "execution_count": null,
      "outputs": []
    },
    {
      "cell_type": "code",
      "source": [
        "# Distribution de fréquence de la variable `'time'`\n",
        "tips_df.time.value_counts()"
      ],
      "metadata": {
        "id": "1CTi-cVfbe33"
      },
      "execution_count": null,
      "outputs": []
    },
    {
      "cell_type": "code",
      "source": [
        "# Distribution de fréquence de la variable `'time'` en pourcentage\n",
        "tips_df.time.value_counts(normalize=True).round(2)\n"
      ],
      "metadata": {
        "id": "K2W2WB9vbt_5"
      },
      "execution_count": null,
      "outputs": []
    },
    {
      "cell_type": "code",
      "source": [
        "# Etendue de la variable `'tip'`\n",
        "tips_df.tip.max() - tips_df.tip.min()"
      ],
      "metadata": {
        "id": "eW4glrcucGMR"
      },
      "execution_count": null,
      "outputs": []
    },
    {
      "cell_type": "code",
      "source": [
        "# La variance de la variable `'tip'`\n",
        "tips_df.tip.var()"
      ],
      "metadata": {
        "id": "GkWGlObNcg0H"
      },
      "execution_count": null,
      "outputs": []
    },
    {
      "cell_type": "code",
      "source": [
        "# Ecart-type de la variable `'tip'`\n",
        "tips_df.tip.std()"
      ],
      "metadata": {
        "id": "FjIE47ICcyGQ"
      },
      "execution_count": null,
      "outputs": []
    },
    {
      "cell_type": "code",
      "source": [
        "# Vérifions que l'écart-type est la racine carréée de la variance\n",
        "tips_df.tip.std() == (tips_df.tip.var())**0.5"
      ],
      "metadata": {
        "id": "4ijIBTFMc-xL"
      },
      "execution_count": null,
      "outputs": []
    },
    {
      "cell_type": "code",
      "source": [
        "# Tableau de statistiques descriptives\n",
        "tips_df.describe()"
      ],
      "metadata": {
        "id": "3OIm11XddoVg"
      },
      "execution_count": null,
      "outputs": []
    },
    {
      "cell_type": "code",
      "source": [
        "tips_df.describe(include='all')"
      ],
      "metadata": {
        "id": "7ecR0VfbeO64"
      },
      "execution_count": null,
      "outputs": []
    },
    {
      "cell_type": "code",
      "source": [
        "# Les quartiles de la variable `'total_bill'`: méthode .quantile()\n",
        "print('1er quartile: {:.3f}'.format(tips_df.total_bill.quantile(0.25)))\n",
        "print('2ème quartile: {:.3f}'.format(tips_df.total_bill.quantile(0.5)))\n",
        "print('3ème quartile: {:.3f}'.format(tips_df.total_bill.quantile(0.75)))"
      ],
      "metadata": {
        "id": "OLCYEd_qeqUn"
      },
      "execution_count": null,
      "outputs": []
    },
    {
      "cell_type": "code",
      "source": [
        "# Les quartiles de la variable `'total_bill'`: méthode np.quantile()\n",
        "print('1er quartile: {:.3f}'.format(np.quantile(tips_df.total_bill, 0.25)))\n",
        "print('2ème quartile: {:.3f}'.format(np.quantile(tips_df.total_bill, 0.5)))\n",
        "print('3ème quartile: {:.3f}'.format(np.quantile(tips_df.total_bill, 0.75)))"
      ],
      "metadata": {
        "id": "HDkZwyUrfi_4"
      },
      "execution_count": null,
      "outputs": []
    },
    {
      "cell_type": "code",
      "source": [
        "# Les quartiles de la variable `'total_bill'`: méthode np.percentile()\n",
        "\n",
        "print('1er quartile: {:.3f}'.format(np.percentile(tips_df.total_bill, 25)))\n",
        "print('2ème quartile: {:.3f}'.format(np.percentile(tips_df.total_bill, 50)))\n",
        "print('3ème quartile: {:.3f}'.format(np.percentile(tips_df.total_bill, 75)))"
      ],
      "metadata": {
        "id": "eGCK2sFigqkI"
      },
      "execution_count": null,
      "outputs": []
    },
    {
      "cell_type": "code",
      "source": [
        "# Les quartiles de la variable `'total_bill'`: np.quantile()\n",
        "np.quantile(tips_df.total_bill, [0.25, 0.5, 0.75])"
      ],
      "metadata": {
        "id": "gIzU7PNuhSlZ"
      },
      "execution_count": null,
      "outputs": []
    },
    {
      "cell_type": "code",
      "source": [
        "# Les quartiles de la variable `'total_bill'`: np.percentile\n",
        "np.quantile(tips_df.total_bill, [0.25, 0.5, 0.75])\n",
        "\n"
      ],
      "metadata": {
        "id": "oNAb1PqviHqh"
      },
      "execution_count": null,
      "outputs": []
    },
    {
      "cell_type": "code",
      "source": [
        "# Les quintiles de la variable `'total_bill'`: np.quantile\n",
        "np.quantile(tips_df.total_bill, [0.2, 0.4, 0.6, 0.8, 1])"
      ],
      "metadata": {
        "id": "2TJAl8RwjFyB"
      },
      "execution_count": null,
      "outputs": []
    },
    {
      "cell_type": "code",
      "source": [
        "# IQR de la variable `'total_bill'`\n",
        "tips_df.total_bill.quantile(.75) - tips_df.total_bill.quantile(.25)"
      ],
      "metadata": {
        "id": "yUqyJMXFjlRv"
      },
      "execution_count": null,
      "outputs": []
    },
    {
      "cell_type": "code",
      "source": [
        "from scipy import stats\n",
        "\n",
        "stats.iqr(tips_df.total_bill)"
      ],
      "metadata": {
        "id": "muP2sl5Gkm2k"
      },
      "execution_count": null,
      "outputs": []
    },
    {
      "cell_type": "code",
      "source": [
        "tips_df.sex.describe()"
      ],
      "metadata": {
        "id": "F0M12ZQPk14h"
      },
      "execution_count": null,
      "outputs": []
    },
    {
      "cell_type": "code",
      "source": [
        ""
      ],
      "metadata": {
        "id": "lAhtt3DJlIfI"
      },
      "execution_count": null,
      "outputs": []
    }
  ]
}